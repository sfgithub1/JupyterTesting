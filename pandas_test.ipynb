{
  "nbformat": 4,
  "nbformat_minor": 0,
  "metadata": {
    "colab": {
      "name": "pandas_test.ipynb",
      "provenance": []
    },
    "kernelspec": {
      "name": "python3",
      "display_name": "Python 3"
    },
    "language_info": {
      "name": "python"
    }
  },
  "cells": [
    {
      "cell_type": "code",
      "execution_count": null,
      "metadata": {
        "id": "5QG6PVBa_IUJ"
      },
      "outputs": [],
      "source": [
        "import numpy as np\n",
        "import pandas as pd\n"
      ]
    },
    {
      "cell_type": "code",
      "source": [
        "def header(msg):\n",
        "\tprint('-' * 50)\n",
        "\tprint('[ ' + msg + ' ]')\n"
      ],
      "metadata": {
        "id": "i3x8T7KI_V-T"
      },
      "execution_count": null,
      "outputs": []
    },
    {
      "cell_type": "code",
      "source": [
        "# 1. load hard-coded data into a dataframe\n",
        "header(\"1. load hard-coded data into a df\")\n",
        "df = pd.DataFrame(\n",
        "\t[['Jan',58,42,74,22,2.95],\n",
        "\t['Feb',61,45,78,26,3.02],\n",
        "\t['Mar',65,48,84,25,2.34],\n",
        "\t['Apr',67,50,92,28,1.02],\n",
        "\t['May',71,53,98,35,0.48],\n",
        "\t['Jun',75,56,107,41,0.11],\n",
        "\t['Jul',77,58,105,44,0.0],\n",
        "\t['Aug',77,59,102,43,0.03],\n",
        "\t['Sep',77,57,103,40,0.17],\n",
        "\t['Oct',73,54,96,34,0.81],\n",
        "\t['Nov',64,48,84,30,1.7],\n",
        "\t['Dec',58,42,73,21,2.56]],\n",
        "\tindex = [0,1,2,3,4,5,6,7,8,9,10,11],\n",
        "\tcolumns = ['month','avg_high','avg_low','record_high','record_low','avg_precipitation'])\n",
        "print(df)\n",
        "filename = 'sample_data/Fremont_weather.txt'\n",
        "df.to_csv(filename)"
      ],
      "metadata": {
        "colab": {
          "base_uri": "https://localhost:8080/"
        },
        "id": "jID5bA16AuCm",
        "outputId": "40519450-2961-4045-fdda-0b6969861016"
      },
      "execution_count": null,
      "outputs": [
        {
          "output_type": "stream",
          "name": "stdout",
          "text": [
            "--------------------------------------------------\n",
            "[ 1. load hard-coded data into a df ]\n",
            "   month  avg_high  avg_low  record_high  record_low  avg_precipitation\n",
            "0    Jan        58       42           74          22               2.95\n",
            "1    Feb        61       45           78          26               3.02\n",
            "2    Mar        65       48           84          25               2.34\n",
            "3    Apr        67       50           92          28               1.02\n",
            "4    May        71       53           98          35               0.48\n",
            "5    Jun        75       56          107          41               0.11\n",
            "6    Jul        77       58          105          44               0.00\n",
            "7    Aug        77       59          102          43               0.03\n",
            "8    Sep        77       57          103          40               0.17\n",
            "9    Oct        73       54           96          34               0.81\n",
            "10   Nov        64       48           84          30               1.70\n",
            "11   Dec        58       42           73          21               2.56\n"
          ]
        }
      ]
    },
    {
      "cell_type": "code",
      "source": [
        "# 2. read text file into a dataframe\n",
        "header(\"2. read text file into a df\")\n",
        "filename = 'sample_data/Fremont_weather.txt'\n",
        "df = pd.read_csv(filename)\n",
        "print(df)"
      ],
      "metadata": {
        "colab": {
          "base_uri": "https://localhost:8080/"
        },
        "id": "4rRT2q-oAwOe",
        "outputId": "324f48e0-7d93-47ac-eb92-0fd4458984bf"
      },
      "execution_count": null,
      "outputs": [
        {
          "output_type": "stream",
          "name": "stdout",
          "text": [
            "--------------------------------------------------\n",
            "[ 2. read text file into a df ]\n",
            "    Unnamed: 0 month  avg_high  avg_low  record_high  record_low  \\\n",
            "0            0   Jan        58       42           74          22   \n",
            "1            1   Feb        61       45           78          26   \n",
            "2            2   Mar        65       48           84          25   \n",
            "3            3   Apr        67       50           92          28   \n",
            "4            4   May        71       53           98          35   \n",
            "5            5   Jun        75       56          107          41   \n",
            "6            6   Jul        77       58          105          44   \n",
            "7            7   Aug        77       59          102          43   \n",
            "8            8   Sep        77       57          103          40   \n",
            "9            9   Oct        73       54           96          34   \n",
            "10          10   Nov        64       48           84          30   \n",
            "11          11   Dec        58       42           73          21   \n",
            "\n",
            "    avg_precipitation  \n",
            "0                2.95  \n",
            "1                3.02  \n",
            "2                2.34  \n",
            "3                1.02  \n",
            "4                0.48  \n",
            "5                0.11  \n",
            "6                0.00  \n",
            "7                0.03  \n",
            "8                0.17  \n",
            "9                0.81  \n",
            "10               1.70  \n",
            "11               2.56  \n"
          ]
        }
      ]
    },
    {
      "cell_type": "code",
      "source": [
        "\n",
        "# 3. print first 5 or last 3 rows of df\n",
        "header(\"3. df.head()\")\n",
        "print(df.head())\n",
        "header(\"3. df.tail(3)\")\n",
        "print(df.tail(3))"
      ],
      "metadata": {
        "colab": {
          "base_uri": "https://localhost:8080/"
        },
        "id": "NptBuItLA0ny",
        "outputId": "28fc5584-6a5c-46ce-8cc8-44b41d37cb48"
      },
      "execution_count": null,
      "outputs": [
        {
          "output_type": "stream",
          "name": "stdout",
          "text": [
            "--------------------------------------------------\n",
            "[ 3. df.head() ]\n",
            "   Unnamed: 0 month  avg_high  avg_low  record_high  record_low  \\\n",
            "0           0   Jan        58       42           74          22   \n",
            "1           1   Feb        61       45           78          26   \n",
            "2           2   Mar        65       48           84          25   \n",
            "3           3   Apr        67       50           92          28   \n",
            "4           4   May        71       53           98          35   \n",
            "\n",
            "   avg_precipitation  \n",
            "0               2.95  \n",
            "1               3.02  \n",
            "2               2.34  \n",
            "3               1.02  \n",
            "4               0.48  \n",
            "--------------------------------------------------\n",
            "[ 3. df.tail(3) ]\n",
            "    Unnamed: 0 month  avg_high  avg_low  record_high  record_low  \\\n",
            "9            9   Oct        73       54           96          34   \n",
            "10          10   Nov        64       48           84          30   \n",
            "11          11   Dec        58       42           73          21   \n",
            "\n",
            "    avg_precipitation  \n",
            "9                0.81  \n",
            "10               1.70  \n",
            "11               2.56  \n"
          ]
        }
      ]
    },
    {
      "cell_type": "code",
      "source": [
        "# 4. get data types, index, columns, values\n",
        "header(\"4. df.dtypes\")\n",
        "print(df.dtypes)\n",
        "\n",
        "header(\"4. df.index\")\n",
        "print(df.index)\n",
        "\n",
        "header(\"4. df.columns\")\n",
        "print(df.columns)\n",
        "\n",
        "header(\"4. df.values\")\n",
        "print(df.values)"
      ],
      "metadata": {
        "colab": {
          "base_uri": "https://localhost:8080/"
        },
        "id": "8NpNqqeuA6PI",
        "outputId": "e0490e5f-cfc3-4b9e-e49e-205a206fde73"
      },
      "execution_count": null,
      "outputs": [
        {
          "output_type": "stream",
          "name": "stdout",
          "text": [
            "--------------------------------------------------\n",
            "[ 4. df.dtypes ]\n",
            "Unnamed: 0             int64\n",
            "month                 object\n",
            "avg_high               int64\n",
            "avg_low                int64\n",
            "record_high            int64\n",
            "record_low             int64\n",
            "avg_precipitation    float64\n",
            "dtype: object\n",
            "--------------------------------------------------\n",
            "[ 4. df.index ]\n",
            "RangeIndex(start=0, stop=12, step=1)\n",
            "--------------------------------------------------\n",
            "[ 4. df.columns ]\n",
            "Index(['Unnamed: 0', 'month', 'avg_high', 'avg_low', 'record_high',\n",
            "       'record_low', 'avg_precipitation'],\n",
            "      dtype='object')\n",
            "--------------------------------------------------\n",
            "[ 4. df.values ]\n",
            "[[0 'Jan' 58 42 74 22 2.95]\n",
            " [1 'Feb' 61 45 78 26 3.02]\n",
            " [2 'Mar' 65 48 84 25 2.34]\n",
            " [3 'Apr' 67 50 92 28 1.02]\n",
            " [4 'May' 71 53 98 35 0.48]\n",
            " [5 'Jun' 75 56 107 41 0.11]\n",
            " [6 'Jul' 77 58 105 44 0.0]\n",
            " [7 'Aug' 77 59 102 43 0.03]\n",
            " [8 'Sep' 77 57 103 40 0.17]\n",
            " [9 'Oct' 73 54 96 34 0.81]\n",
            " [10 'Nov' 64 48 84 30 1.7]\n",
            " [11 'Dec' 58 42 73 21 2.56]]\n"
          ]
        }
      ]
    },
    {
      "cell_type": "code",
      "source": [
        "# 5. statistical summary of each column\n",
        "header(\"5. df.describe()\")\n",
        "print(df.describe())"
      ],
      "metadata": {
        "colab": {
          "base_uri": "https://localhost:8080/"
        },
        "id": "41I_G3vtBAep",
        "outputId": "17bbcee0-586a-4bce-df9c-d9ae00aea21e"
      },
      "execution_count": null,
      "outputs": [
        {
          "output_type": "stream",
          "name": "stdout",
          "text": [
            "--------------------------------------------------\n",
            "[ 5. df.describe() ]\n",
            "       Unnamed: 0   avg_high    avg_low  record_high  record_low  \\\n",
            "count   12.000000  12.000000  12.000000    12.000000   12.000000   \n",
            "mean     5.500000  68.583333  51.000000    91.333333   32.416667   \n",
            "std      3.605551   7.366488   6.060303    12.323911    8.240238   \n",
            "min      0.000000  58.000000  42.000000    73.000000   21.000000   \n",
            "25%      2.750000  63.250000  47.250000    82.500000   25.750000   \n",
            "50%      5.500000  69.000000  51.500000    94.000000   32.000000   \n",
            "75%      8.250000  75.500000  56.250000   102.250000   40.250000   \n",
            "max     11.000000  77.000000  59.000000   107.000000   44.000000   \n",
            "\n",
            "       avg_precipitation  \n",
            "count          12.000000  \n",
            "mean            1.265833  \n",
            "std             1.186396  \n",
            "min             0.000000  \n",
            "25%             0.155000  \n",
            "50%             0.915000  \n",
            "75%             2.395000  \n",
            "max             3.020000  \n"
          ]
        }
      ]
    },
    {
      "cell_type": "code",
      "source": [
        "# 6. sort records by any column\n",
        "header(\"6. df.sort_values('record_high', ascending=False)\")\n",
        "print (df.sort_values('record_high', ascending=False))"
      ],
      "metadata": {
        "colab": {
          "base_uri": "https://localhost:8080/"
        },
        "id": "1la08PtEBC-F",
        "outputId": "0695a1b3-53d0-48c3-a806-dfa9c954560a"
      },
      "execution_count": null,
      "outputs": [
        {
          "output_type": "stream",
          "name": "stdout",
          "text": [
            "--------------------------------------------------\n",
            "[ 6. df.sort_values('record_high', ascending=False) ]\n",
            "    Unnamed: 0 month  avg_high  avg_low  record_high  record_low  \\\n",
            "5            5   Jun        75       56          107          41   \n",
            "6            6   Jul        77       58          105          44   \n",
            "8            8   Sep        77       57          103          40   \n",
            "7            7   Aug        77       59          102          43   \n",
            "4            4   May        71       53           98          35   \n",
            "9            9   Oct        73       54           96          34   \n",
            "3            3   Apr        67       50           92          28   \n",
            "2            2   Mar        65       48           84          25   \n",
            "10          10   Nov        64       48           84          30   \n",
            "1            1   Feb        61       45           78          26   \n",
            "0            0   Jan        58       42           74          22   \n",
            "11          11   Dec        58       42           73          21   \n",
            "\n",
            "    avg_precipitation  \n",
            "5                0.11  \n",
            "6                0.00  \n",
            "8                0.17  \n",
            "7                0.03  \n",
            "4                0.48  \n",
            "9                0.81  \n",
            "3                1.02  \n",
            "2                2.34  \n",
            "10               1.70  \n",
            "1                3.02  \n",
            "0                2.95  \n",
            "11               2.56  \n"
          ]
        }
      ]
    },
    {
      "cell_type": "code",
      "source": [
        "# 7. slicing records\n",
        "header(\"7. slicing -- df.avg_low\")\n",
        "print(df.avg_low)\t\t\t\t\t\t\t# index with single column\n",
        "\n",
        "header(\"7. slicing -- df['avg_low']\")\n",
        "print(df['avg_low'])\n",
        "\n",
        "header(\"7. slicing -- df[2:4]\")\t\t\t\t# index with single column\n",
        "print(df[2:4])\t\t\t\t\t\t\t\t# rows 2 to 3\n",
        "\n",
        "header(\"7. slicing -- df[['avg_low','avg_high']]\")\n",
        "print(df[['avg_low','avg_high']])\n",
        "\n",
        "header(\"7. slicing -- df.loc[:,['avg_low','avg_high']]\")\n",
        "print(df.loc[:,['avg_low','avg_high']])\t\t# multiple columns: df.loc[from_row:to_row,['column1','column2']]\n",
        "\n",
        "header(\"7. slicing scalar value -- df.loc[9,['avg_precipitation']]\")\n",
        "print(df.loc[9,['avg_precipitation']])\n",
        "\n",
        "header(\"7. df.iloc[3:5,[0,3]]\")\t\t\t\t# index location can receive range or list of indices\n",
        "print(df.iloc[3:5,[0,3]])"
      ],
      "metadata": {
        "colab": {
          "base_uri": "https://localhost:8080/"
        },
        "id": "ZH5WEB-sBFtl",
        "outputId": "dffcc211-e62f-4615-ba00-ff25452fa9eb"
      },
      "execution_count": null,
      "outputs": [
        {
          "output_type": "stream",
          "name": "stdout",
          "text": [
            "--------------------------------------------------\n",
            "[ 7. slicing -- df.avg_low ]\n",
            "0     42\n",
            "1     45\n",
            "2     48\n",
            "3     50\n",
            "4     53\n",
            "5     56\n",
            "6     58\n",
            "7     59\n",
            "8     57\n",
            "9     54\n",
            "10    48\n",
            "11    42\n",
            "Name: avg_low, dtype: int64\n",
            "--------------------------------------------------\n",
            "[ 7. slicing -- df['avg_low'] ]\n",
            "0     42\n",
            "1     45\n",
            "2     48\n",
            "3     50\n",
            "4     53\n",
            "5     56\n",
            "6     58\n",
            "7     59\n",
            "8     57\n",
            "9     54\n",
            "10    48\n",
            "11    42\n",
            "Name: avg_low, dtype: int64\n",
            "--------------------------------------------------\n",
            "[ 7. slicing -- df[2:4] ]\n",
            "   Unnamed: 0 month  avg_high  avg_low  record_high  record_low  \\\n",
            "2           2   Mar        65       48           84          25   \n",
            "3           3   Apr        67       50           92          28   \n",
            "\n",
            "   avg_precipitation  \n",
            "2               2.34  \n",
            "3               1.02  \n",
            "--------------------------------------------------\n",
            "[ 7. slicing -- df[['avg_low','avg_high']] ]\n",
            "    avg_low  avg_high\n",
            "0        42        58\n",
            "1        45        61\n",
            "2        48        65\n",
            "3        50        67\n",
            "4        53        71\n",
            "5        56        75\n",
            "6        58        77\n",
            "7        59        77\n",
            "8        57        77\n",
            "9        54        73\n",
            "10       48        64\n",
            "11       42        58\n",
            "--------------------------------------------------\n",
            "[ 7. slicing -- df.loc[:,['avg_low','avg_high']] ]\n",
            "    avg_low  avg_high\n",
            "0        42        58\n",
            "1        45        61\n",
            "2        48        65\n",
            "3        50        67\n",
            "4        53        71\n",
            "5        56        75\n",
            "6        58        77\n",
            "7        59        77\n",
            "8        57        77\n",
            "9        54        73\n",
            "10       48        64\n",
            "11       42        58\n",
            "--------------------------------------------------\n",
            "[ 7. slicing scalar value -- df.loc[9,['avg_precipitation']] ]\n",
            "avg_precipitation    0.81\n",
            "Name: 9, dtype: object\n",
            "--------------------------------------------------\n",
            "[ 7. df.iloc[3:5,[0,3]] ]\n",
            "   Unnamed: 0  avg_low\n",
            "3           3       50\n",
            "4           4       53\n"
          ]
        }
      ]
    },
    {
      "cell_type": "code",
      "source": [
        "# 8. filtering\n",
        "header(\"8. df[df.avg_precipitation > 1.0]\")\t# filter on column values\n",
        "print(df[df.avg_precipitation > 1.0])\n",
        "\n",
        "header(\"8. df[df['month'].isin['Jun','Jul','Aug']]\")\n",
        "print(df[df['month'].isin(['Jun','Jul','Aug'])])\n"
      ],
      "metadata": {
        "colab": {
          "base_uri": "https://localhost:8080/"
        },
        "id": "JN_aAaSgBILn",
        "outputId": "58f6586f-dd53-46e6-a7bf-544d09fc5fc5"
      },
      "execution_count": null,
      "outputs": [
        {
          "output_type": "stream",
          "name": "stdout",
          "text": [
            "--------------------------------------------------\n",
            "[ 8. df[df.avg_precipitation > 1.0] ]\n",
            "    Unnamed: 0 month  avg_high  avg_low  record_high  record_low  \\\n",
            "0            0   Jan        58       42           74          22   \n",
            "1            1   Feb        61       45           78          26   \n",
            "2            2   Mar        65       48           84          25   \n",
            "3            3   Apr        67       50           92          28   \n",
            "10          10   Nov        64       48           84          30   \n",
            "11          11   Dec        58       42           73          21   \n",
            "\n",
            "    avg_precipitation  \n",
            "0                2.95  \n",
            "1                3.02  \n",
            "2                2.34  \n",
            "3                1.02  \n",
            "10               1.70  \n",
            "11               2.56  \n",
            "--------------------------------------------------\n",
            "[ 8. df[df['month'].isin['Jun','Jul','Aug']] ]\n",
            "   Unnamed: 0 month  avg_high  avg_low  record_high  record_low  \\\n",
            "5           5   Jun        75       56          107          41   \n",
            "6           6   Jul        77       58          105          44   \n",
            "7           7   Aug        77       59          102          43   \n",
            "\n",
            "   avg_precipitation  \n",
            "5               0.11  \n",
            "6               0.00  \n",
            "7               0.03  \n"
          ]
        }
      ]
    },
    {
      "cell_type": "code",
      "source": [
        "print(df)"
      ],
      "metadata": {
        "colab": {
          "base_uri": "https://localhost:8080/"
        },
        "id": "KxCwTq6gHCtk",
        "outputId": "361e047f-867d-4b6b-93b5-35cca29f59c4"
      },
      "execution_count": null,
      "outputs": [
        {
          "output_type": "stream",
          "name": "stdout",
          "text": [
            "    Unnamed: 0 month  avg_high  avg_low  record_high  record_low  \\\n",
            "0            0   Jan        58       42           74          22   \n",
            "1            1   Feb        61       45           78          26   \n",
            "2            2   Mar        65       48           84          25   \n",
            "3            3   Apr        67       50           92          28   \n",
            "4            4   May        71       53           98          35   \n",
            "5            5   Jun        75       56          107          41   \n",
            "6            6   Jul        77       58          105          44   \n",
            "7            7   Aug        77       59          102          43   \n",
            "8            8   Sep        77       57          103          40   \n",
            "9            9   Oct        73       54           96          34   \n",
            "10          10   Nov        64       48           84          30   \n",
            "11          11   Dec        58       42           73          21   \n",
            "\n",
            "    avg_precipitation  \n",
            "0                2.95  \n",
            "1                3.02  \n",
            "2                2.34  \n",
            "3                1.02  \n",
            "4                0.48  \n",
            "5                0.11  \n",
            "6                0.00  \n",
            "7                0.03  \n",
            "8                0.17  \n",
            "9                0.81  \n",
            "10               1.70  \n",
            "11               2.56  \n"
          ]
        }
      ]
    },
    {
      "cell_type": "code",
      "source": [
        "# 9. assignment -- very similar to slicing\n",
        "header(\"9. df.loc[9,['avg_precipitation']] = 101.3\")\n",
        "df.loc[9,['avg_precipitation']] = 101.3\n",
        "print(df.iloc[9:11])\n",
        "\n",
        "header(\"9. df.loc[9,['avg_precipitation']] = np.nan\")\n",
        "df.loc[9,['avg_precipitation']] = np.nan\n",
        "print(df.iloc[9:11])\n",
        "\n",
        "header(\"9. df.loc[:,'avg_low'] = np.array([5] * len(df))\")\n",
        "df.loc[:,'avg_low'] = np.array([5] * len(df))\n",
        "print(df.head())\n",
        "\n",
        "header(\"9. df['avg_day'] = (df.avg_low + df.avg_high) / 2\")\n",
        "df['avg_day'] = (df.avg_low + df.avg_high) / 2\n",
        "print(df)\n"
      ],
      "metadata": {
        "colab": {
          "base_uri": "https://localhost:8080/"
        },
        "id": "bo569PtTBKkc",
        "outputId": "9ad140cd-483e-40de-d140-fd8b7c1ee835"
      },
      "execution_count": null,
      "outputs": [
        {
          "output_type": "stream",
          "name": "stdout",
          "text": [
            "--------------------------------------------------\n",
            "[ 9. df.loc[9,['avg_precipitation']] = 101.3 ]\n",
            "    Unnamed: 0 month  avg_high  avg_low  record_high  record_low  \\\n",
            "9            9   Oct        73       54           96          34   \n",
            "10          10   Nov        64       48           84          30   \n",
            "\n",
            "    avg_precipitation  \n",
            "9               101.3  \n",
            "10                1.7  \n",
            "--------------------------------------------------\n",
            "[ 9. df.loc[9,['avg_precipitation']] = np.nan ]\n",
            "    Unnamed: 0 month  avg_high  avg_low  record_high  record_low  \\\n",
            "9            9   Oct        73       54           96          34   \n",
            "10          10   Nov        64       48           84          30   \n",
            "\n",
            "    avg_precipitation  \n",
            "9                 NaN  \n",
            "10                1.7  \n",
            "--------------------------------------------------\n",
            "[ 9. df.loc[:,'avg_low'] = np.array([5] * len(df)) ]\n",
            "   Unnamed: 0 month  avg_high  avg_low  record_high  record_low  \\\n",
            "0           0   Jan        58        5           74          22   \n",
            "1           1   Feb        61        5           78          26   \n",
            "2           2   Mar        65        5           84          25   \n",
            "3           3   Apr        67        5           92          28   \n",
            "4           4   May        71        5           98          35   \n",
            "\n",
            "   avg_precipitation  \n",
            "0               2.95  \n",
            "1               3.02  \n",
            "2               2.34  \n",
            "3               1.02  \n",
            "4               0.48  \n",
            "--------------------------------------------------\n",
            "[ 9. df['avg_day'] = (df.avg_low + df.avg_high) / 2 ]\n",
            "    Unnamed: 0 month  avg_high  avg_low  record_high  record_low  \\\n",
            "0            0   Jan        58        5           74          22   \n",
            "1            1   Feb        61        5           78          26   \n",
            "2            2   Mar        65        5           84          25   \n",
            "3            3   Apr        67        5           92          28   \n",
            "4            4   May        71        5           98          35   \n",
            "5            5   Jun        75        5          107          41   \n",
            "6            6   Jul        77        5          105          44   \n",
            "7            7   Aug        77        5          102          43   \n",
            "8            8   Sep        77        5          103          40   \n",
            "9            9   Oct        73        5           96          34   \n",
            "10          10   Nov        64        5           84          30   \n",
            "11          11   Dec        58        5           73          21   \n",
            "\n",
            "    avg_precipitation  avg_day  \n",
            "0                2.95     31.5  \n",
            "1                3.02     33.0  \n",
            "2                2.34     35.0  \n",
            "3                1.02     36.0  \n",
            "4                0.48     38.0  \n",
            "5                0.11     40.0  \n",
            "6                0.00     41.0  \n",
            "7                0.03     41.0  \n",
            "8                0.17     41.0  \n",
            "9                 NaN     39.0  \n",
            "10               1.70     34.5  \n",
            "11               2.56     31.5  \n"
          ]
        }
      ]
    },
    {
      "cell_type": "code",
      "source": [
        "df.drop('avg_day',inplace=True,axis=1)"
      ],
      "metadata": {
        "id": "6ktDf9i-JIhy"
      },
      "execution_count": null,
      "outputs": []
    },
    {
      "cell_type": "code",
      "source": [
        "# 10. renaming columns\n",
        "header(\"10. df.rename(columns = {'avg_precipitation':'avg_rain'}, inplace=True)\")\n",
        "df.rename(columns = {'avg_precipitation':'avg_rain'}, inplace=True)\t\t# rename 1 column\n",
        "print(df.head())\n"
      ],
      "metadata": {
        "colab": {
          "base_uri": "https://localhost:8080/"
        },
        "id": "h-T1GwaMBM4n",
        "outputId": "fcd335b4-7e54-459e-dcc3-11d885649c2b"
      },
      "execution_count": null,
      "outputs": [
        {
          "output_type": "stream",
          "name": "stdout",
          "text": [
            "--------------------------------------------------\n",
            "[ 10. df.rename(columns = {'avg_precipitation':'avg_rain'}, inplace=True) ]\n",
            "   Unnamed: 0 month  avg_high  avg_low  record_high  record_low  avg_rain  \\\n",
            "0           0   Jan        58        5           74          22      2.95   \n",
            "1           1   Feb        61        5           78          26      3.02   \n",
            "2           2   Mar        65        5           84          25      2.34   \n",
            "3           3   Apr        67        5           92          28      1.02   \n",
            "4           4   May        71        5           98          35      0.48   \n",
            "\n",
            "   avg_day  \n",
            "0     31.5  \n",
            "1     33.0  \n",
            "2     35.0  \n",
            "3     36.0  \n",
            "4     38.0  \n"
          ]
        }
      ]
    },
    {
      "cell_type": "code",
      "source": [
        "header(\"10. df.columns = ['month','av_hi','av_lo','rec_hi','rec_lo','av_rain','av_day']\")\n",
        "df.columns = ['month','av_hi','av_lo','rec_hi','rec_lo','av_rain','av_day']\n",
        "print(df.head())"
      ],
      "metadata": {
        "colab": {
          "base_uri": "https://localhost:8080/"
        },
        "id": "6SFVIic2Icfc",
        "outputId": "904aca61-5fbd-45b3-e6cc-a92ee79d6a1c"
      },
      "execution_count": null,
      "outputs": [
        {
          "output_type": "stream",
          "name": "stdout",
          "text": [
            "--------------------------------------------------\n",
            "[ 10. df.columns = ['month','av_hi','av_lo','rec_hi','rec_lo','av_rain','av_day'] ]\n",
            "   month av_hi  av_lo  rec_hi  rec_lo  av_rain  av_day\n",
            "0      0   Jan     58       5      74       22    2.95\n",
            "1      1   Feb     61       5      78       26    3.02\n",
            "2      2   Mar     65       5      84       25    2.34\n",
            "3      3   Apr     67       5      92       28    1.02\n",
            "4      4   May     71       5      98       35    0.48\n"
          ]
        }
      ]
    },
    {
      "cell_type": "code",
      "source": [
        "# 11. iterate a df\n",
        "header(\"11. iterate rows of df with a for loop\")\n",
        "for index, row in df.iterrows():\n",
        "    print (index, row[\"month\"], row[\"av_hi\"])\n",
        "\n"
      ],
      "metadata": {
        "colab": {
          "base_uri": "https://localhost:8080/"
        },
        "id": "rXHH1-kbBQxi",
        "outputId": "70c06406-dfe0-426e-ce15-3fafecee5aab"
      },
      "execution_count": null,
      "outputs": [
        {
          "output_type": "stream",
          "name": "stdout",
          "text": [
            "--------------------------------------------------\n",
            "[ 11. iterate rows of df with a for loop ]\n",
            "0 0 Jan\n",
            "1 1 Feb\n",
            "2 2 Mar\n",
            "3 3 Apr\n",
            "4 4 May\n",
            "5 5 Jun\n",
            "6 6 Jul\n",
            "7 7 Aug\n",
            "8 8 Sep\n",
            "9 9 Oct\n",
            "10 10 Nov\n",
            "11 11 Dec\n"
          ]
        }
      ]
    },
    {
      "cell_type": "code",
      "source": [
        "# 12. write to csv file\n",
        "df.to_csv('sample_data/foo.csv')"
      ],
      "metadata": {
        "id": "MD0-SYHJBRjR"
      },
      "execution_count": null,
      "outputs": []
    }
  ]
}